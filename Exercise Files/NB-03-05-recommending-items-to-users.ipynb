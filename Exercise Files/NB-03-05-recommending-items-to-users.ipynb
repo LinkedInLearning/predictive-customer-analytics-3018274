{
 "cells": [
  {
   "cell_type": "markdown",
   "metadata": {},
   "source": [
    " #  <p style=\"text-align: center;\">Recommending Items to Users</p> "
   ]
  },
  {
   "cell_type": "markdown",
   "metadata": {},
   "source": [
    "Collaborative Filtering is a popular technique that is used for coming up with User-Item recommendations. In this example, we will use the list of which users bought which items and build an affinity score between items. When a customers buys and item, we use this affinity score to recommend other items to the customer "
   ]
  },
  {
   "cell_type": "markdown",
   "metadata": {},
   "source": [
    "## Loading the Dataset\n",
    "\n",
    "The source data set contains in each row a User ID and an Item ID. This is the list of users and the items they bought, one line at a time"
   ]
  },
  {
   "cell_type": "code",
   "execution_count": 1,
   "metadata": {},
   "outputs": [
    {
     "data": {
      "text/html": [
       "<div>\n",
       "<style scoped>\n",
       "    .dataframe tbody tr th:only-of-type {\n",
       "        vertical-align: middle;\n",
       "    }\n",
       "\n",
       "    .dataframe tbody tr th {\n",
       "        vertical-align: top;\n",
       "    }\n",
       "\n",
       "    .dataframe thead th {\n",
       "        text-align: right;\n",
       "    }\n",
       "</style>\n",
       "<table border=\"1\" class=\"dataframe\">\n",
       "  <thead>\n",
       "    <tr style=\"text-align: right;\">\n",
       "      <th></th>\n",
       "      <th>userId</th>\n",
       "      <th>ItemId</th>\n",
       "    </tr>\n",
       "  </thead>\n",
       "  <tbody>\n",
       "    <tr>\n",
       "      <th>0</th>\n",
       "      <td>1001</td>\n",
       "      <td>5001</td>\n",
       "    </tr>\n",
       "    <tr>\n",
       "      <th>1</th>\n",
       "      <td>1001</td>\n",
       "      <td>5002</td>\n",
       "    </tr>\n",
       "    <tr>\n",
       "      <th>2</th>\n",
       "      <td>1001</td>\n",
       "      <td>5005</td>\n",
       "    </tr>\n",
       "    <tr>\n",
       "      <th>3</th>\n",
       "      <td>1002</td>\n",
       "      <td>5003</td>\n",
       "    </tr>\n",
       "    <tr>\n",
       "      <th>4</th>\n",
       "      <td>1002</td>\n",
       "      <td>5004</td>\n",
       "    </tr>\n",
       "  </tbody>\n",
       "</table>\n",
       "</div>"
      ],
      "text/plain": [
       "   userId  ItemId\n",
       "0    1001    5001\n",
       "1    1001    5002\n",
       "2    1001    5005\n",
       "3    1002    5003\n",
       "4    1002    5004"
      ]
     },
     "execution_count": 1,
     "metadata": {},
     "output_type": "execute_result"
    }
   ],
   "source": [
    "import pandas as pd\n",
    "\n",
    "userItemData = pd.read_csv('Data-03-05-user-item-rating-data.csv')\n",
    "userItemData.head()"
   ]
  },
  {
   "cell_type": "markdown",
   "metadata": {},
   "source": [
    "## Building the Affinity Score\n",
    "\n",
    "For building the affinity score, we can use out-of-the-box open source and commercial collaborative filtering libraries. In this example though, we are going to write a simple algorithm to generate user / item affinities."
   ]
  },
  {
   "cell_type": "code",
   "execution_count": 2,
   "metadata": {},
   "outputs": [
    {
     "data": {
      "text/html": [
       "<div>\n",
       "<style scoped>\n",
       "    .dataframe tbody tr th:only-of-type {\n",
       "        vertical-align: middle;\n",
       "    }\n",
       "\n",
       "    .dataframe tbody tr th {\n",
       "        vertical-align: top;\n",
       "    }\n",
       "\n",
       "    .dataframe thead th {\n",
       "        text-align: right;\n",
       "    }\n",
       "</style>\n",
       "<table border=\"1\" class=\"dataframe\">\n",
       "  <thead>\n",
       "    <tr style=\"text-align: right;\">\n",
       "      <th></th>\n",
       "      <th>item1</th>\n",
       "      <th>item2</th>\n",
       "      <th>score</th>\n",
       "    </tr>\n",
       "  </thead>\n",
       "  <tbody>\n",
       "    <tr>\n",
       "      <th>0</th>\n",
       "      <td>5001.0</td>\n",
       "      <td>5002.0</td>\n",
       "      <td>0.4</td>\n",
       "    </tr>\n",
       "    <tr>\n",
       "      <th>1</th>\n",
       "      <td>5002.0</td>\n",
       "      <td>5001.0</td>\n",
       "      <td>0.4</td>\n",
       "    </tr>\n",
       "    <tr>\n",
       "      <th>2</th>\n",
       "      <td>5001.0</td>\n",
       "      <td>5003.0</td>\n",
       "      <td>0.0</td>\n",
       "    </tr>\n",
       "    <tr>\n",
       "      <th>3</th>\n",
       "      <td>5003.0</td>\n",
       "      <td>5001.0</td>\n",
       "      <td>0.0</td>\n",
       "    </tr>\n",
       "    <tr>\n",
       "      <th>4</th>\n",
       "      <td>5001.0</td>\n",
       "      <td>5004.0</td>\n",
       "      <td>0.2</td>\n",
       "    </tr>\n",
       "  </tbody>\n",
       "</table>\n",
       "</div>"
      ],
      "text/plain": [
       "    item1   item2  score\n",
       "0  5001.0  5002.0    0.4\n",
       "1  5002.0  5001.0    0.4\n",
       "2  5001.0  5003.0    0.0\n",
       "3  5003.0  5001.0    0.0\n",
       "4  5001.0  5004.0    0.2"
      ]
     },
     "execution_count": 2,
     "metadata": {},
     "output_type": "execute_result"
    }
   ],
   "source": [
    "#Get list of unique items\n",
    "itemList=list(set(userItemData[\"ItemId\"].tolist()))\n",
    "\n",
    "#Get count of users\n",
    "userCount=len(set(userItemData[\"ItemId\"].tolist()))\n",
    "\n",
    "#Create an empty data frame to store item affinity scores for items.\n",
    "itemAffinity= pd.DataFrame(columns=('item1', 'item2', 'score'))\n",
    "rowCount=0\n",
    "\n",
    "#For each item in the list, compare with other items.\n",
    "for ind1 in range(len(itemList)):\n",
    "    \n",
    "    #Get list of users who bought this item 1.\n",
    "    item1Users = userItemData[userItemData.ItemId==itemList[ind1]][\"userId\"].tolist()\n",
    "    #print(\"Item 1 \", item1Users)\n",
    "    \n",
    "    #Get item 2 - items that are not item 1 or those that are not analyzed already.\n",
    "    for ind2 in range(ind1, len(itemList)):\n",
    "        \n",
    "        if ( ind1 == ind2):\n",
    "            continue\n",
    "       \n",
    "        #Get list of users who bought item 2\n",
    "        item2Users=userItemData[userItemData.ItemId==itemList[ind2]][\"userId\"].tolist()\n",
    "        #print(\"Item 2\",item2Users)\n",
    "        \n",
    "        #Find score. Find the common list of users and divide it by the total users.\n",
    "        commonUsers= len(set(item1Users).intersection(set(item2Users)))\n",
    "        score=commonUsers / userCount\n",
    "\n",
    "        #Add a score for item 1, item 2\n",
    "        itemAffinity.loc[rowCount] = [itemList[ind1],itemList[ind2],score]\n",
    "        rowCount +=1\n",
    "        #Add a score for item2, item 1. The same score would apply irrespective of the sequence.\n",
    "        itemAffinity.loc[rowCount] = [itemList[ind2],itemList[ind1],score]\n",
    "        rowCount +=1\n",
    "        \n",
    "#Check final result\n",
    "itemAffinity.head()\n"
   ]
  },
  {
   "cell_type": "markdown",
   "metadata": {},
   "source": [
    "## Recommending Items\n",
    "\n",
    "Let us say that a customer bought an item 5001. We can query this data frame for item1-5001 and get items2 with score in desending order. This is the item list that you can recommend to the user in that order."
   ]
  },
  {
   "cell_type": "code",
   "execution_count": 3,
   "metadata": {},
   "outputs": [
    {
     "name": "stdout",
     "output_type": "stream",
     "text": [
      "Recommendations for item 5001\n",
      "     item2  score\n",
      "0  5002.0    0.4\n",
      "6  5005.0    0.4\n",
      "4  5004.0    0.2\n",
      "2  5003.0    0.0\n"
     ]
    }
   ],
   "source": [
    "searchItem=5001\n",
    "recoList=itemAffinity[itemAffinity.item1==searchItem]\\\n",
    "        [[\"item2\",\"score\"]]\\\n",
    "        .sort_values(\"score\", ascending=[0])\n",
    "        \n",
    "print(\"Recommendations for item 5001\\n\", recoList)"
   ]
  },
  {
   "cell_type": "code",
   "execution_count": null,
   "metadata": {},
   "outputs": [],
   "source": []
  }
 ],
 "metadata": {
  "kernelspec": {
   "display_name": "Python 3 (ipykernel)",
   "language": "python",
   "name": "python3"
  },
  "language_info": {
   "codemirror_mode": {
    "name": "ipython",
    "version": 3
   },
   "file_extension": ".py",
   "mimetype": "text/x-python",
   "name": "python",
   "nbconvert_exporter": "python",
   "pygments_lexer": "ipython3",
   "version": "3.8.12"
  }
 },
 "nbformat": 4,
 "nbformat_minor": 1
}
