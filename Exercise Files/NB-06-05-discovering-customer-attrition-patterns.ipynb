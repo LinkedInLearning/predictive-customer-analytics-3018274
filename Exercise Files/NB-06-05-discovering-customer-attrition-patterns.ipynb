{
 "cells": [
  {
   "cell_type": "markdown",
   "metadata": {},
   "source": [
    " #  <p style=\"text-align: center;\">Discovering customer attrition patterns</p> "
   ]
  },
  {
   "cell_type": "markdown",
   "metadata": {},
   "source": [
    "In this example, we analyze customer attrition data to discover patterns. These will help us dive deeper into those patterns and do root cause analysis of why they are happening. We will use association rules mining algorithm for this purpose."
   ]
  },
  {
   "cell_type": "markdown",
   "metadata": {},
   "source": [
    "## Load the Dataset and Transform\n",
    "\n",
    "We first load the data and view it.\n"
   ]
  },
  {
   "cell_type": "code",
   "execution_count": 7,
   "metadata": {},
   "outputs": [
    {
     "data": {
      "text/html": [
       "<div>\n",
       "<style scoped>\n",
       "    .dataframe tbody tr th:only-of-type {\n",
       "        vertical-align: middle;\n",
       "    }\n",
       "\n",
       "    .dataframe tbody tr th {\n",
       "        vertical-align: top;\n",
       "    }\n",
       "\n",
       "    .dataframe thead th {\n",
       "        text-align: right;\n",
       "    }\n",
       "</style>\n",
       "<table border=\"1\" class=\"dataframe\">\n",
       "  <thead>\n",
       "    <tr style=\"text-align: right;\">\n",
       "      <th></th>\n",
       "      <th>LIFETIME</th>\n",
       "      <th>TYPE</th>\n",
       "      <th>REASON</th>\n",
       "      <th>AGE_GROUP</th>\n",
       "      <th>EMP_STATUS</th>\n",
       "      <th>MARITAL_STATUS</th>\n",
       "      <th>RENEWALS</th>\n",
       "      <th>PROBLEMS</th>\n",
       "      <th>OFFERS</th>\n",
       "    </tr>\n",
       "  </thead>\n",
       "  <tbody>\n",
       "    <tr>\n",
       "      <th>0</th>\n",
       "      <td>1 - 3 M</td>\n",
       "      <td>CANCEL</td>\n",
       "      <td>BETTER DEALS</td>\n",
       "      <td>&lt; 20</td>\n",
       "      <td>STUDENT</td>\n",
       "      <td>SINGLE</td>\n",
       "      <td>0</td>\n",
       "      <td>0 to 5</td>\n",
       "      <td>0 to 2</td>\n",
       "    </tr>\n",
       "    <tr>\n",
       "      <th>1</th>\n",
       "      <td>1 - 3 M</td>\n",
       "      <td>CANCEL</td>\n",
       "      <td>BETTER DEALS</td>\n",
       "      <td>&lt; 20</td>\n",
       "      <td>STUDENT</td>\n",
       "      <td>SINGLE</td>\n",
       "      <td>0</td>\n",
       "      <td>0 to 5</td>\n",
       "      <td>0 to 2</td>\n",
       "    </tr>\n",
       "    <tr>\n",
       "      <th>2</th>\n",
       "      <td>1Y - 2Y</td>\n",
       "      <td>CANCEL</td>\n",
       "      <td>NOT HAPPY</td>\n",
       "      <td>30 - 50</td>\n",
       "      <td>EMPLOYED</td>\n",
       "      <td>MARRIED</td>\n",
       "      <td>1</td>\n",
       "      <td>10 plus</td>\n",
       "      <td>0 to 2</td>\n",
       "    </tr>\n",
       "    <tr>\n",
       "      <th>3</th>\n",
       "      <td>1Y - 2Y</td>\n",
       "      <td>EXPIRY</td>\n",
       "      <td>BETTER DEALS</td>\n",
       "      <td>30 - 50</td>\n",
       "      <td>EMPLOYED</td>\n",
       "      <td>MARRIED</td>\n",
       "      <td>1</td>\n",
       "      <td>0 to 5</td>\n",
       "      <td>2 to 5</td>\n",
       "    </tr>\n",
       "    <tr>\n",
       "      <th>4</th>\n",
       "      <td>1Y - 2Y</td>\n",
       "      <td>CANCEL</td>\n",
       "      <td>NOT HAPPY</td>\n",
       "      <td>30 - 50</td>\n",
       "      <td>UNEMPLOYED</td>\n",
       "      <td>SINGLE</td>\n",
       "      <td>1</td>\n",
       "      <td>10 plus</td>\n",
       "      <td>0 to 2</td>\n",
       "    </tr>\n",
       "  </tbody>\n",
       "</table>\n",
       "</div>"
      ],
      "text/plain": [
       "  LIFETIME    TYPE        REASON AGE_GROUP  EMP_STATUS MARITAL_STATUS  \\\n",
       "0  1 - 3 M  CANCEL  BETTER DEALS      < 20     STUDENT         SINGLE   \n",
       "1  1 - 3 M  CANCEL  BETTER DEALS      < 20     STUDENT         SINGLE   \n",
       "2  1Y - 2Y  CANCEL     NOT HAPPY   30 - 50    EMPLOYED        MARRIED   \n",
       "3  1Y - 2Y  EXPIRY  BETTER DEALS   30 - 50    EMPLOYED        MARRIED   \n",
       "4  1Y - 2Y  CANCEL     NOT HAPPY   30 - 50  UNEMPLOYED         SINGLE   \n",
       "\n",
       "  RENEWALS PROBLEMS  OFFERS  \n",
       "0        0   0 to 5  0 to 2  \n",
       "1        0   0 to 5  0 to 2  \n",
       "2        1  10 plus  0 to 2  \n",
       "3        1   0 to 5  2 to 5  \n",
       "4        1  10 plus  0 to 2  "
      ]
     },
     "execution_count": 7,
     "metadata": {},
     "output_type": "execute_result"
    }
   ],
   "source": [
    "from pandas import Series, DataFrame\n",
    "import pandas as pd\n",
    "import numpy as np\n",
    "import os\n",
    "import matplotlib.pylab as plt\n",
    "from apyori import apriori\n",
    "\n",
    "#Load the prospect dataset\n",
    "raw_data = pd.read_csv(\"Data-06-05-warranty-contract-attrition.csv\")\n",
    "\n",
    "raw_data.head()"
   ]
  },
  {
   "cell_type": "markdown",
   "metadata": {},
   "source": [
    "The CSV contains information about each customer who have left the business. It contains attributes like LIFETIME of the customer, How the customer left, reasons, problems and demographics.\n",
    "\n",
    "For doing association rules mining, the data needs to be in a specific format. Each line should be a transaction with a list of items for that transaction. We will take the CSV file data convert them into values like \"name=value\" to create this specific data structure"
   ]
  },
  {
   "cell_type": "code",
   "execution_count": 8,
   "metadata": {},
   "outputs": [],
   "source": [
    "\n",
    "\n",
    "basket_str = \"\"\n",
    "for rowNum, row in raw_data.iterrows():\n",
    "    \n",
    "    #Break lines\n",
    "    if (rowNum != 0):\n",
    "        basket_str = basket_str + \"\\n\"\n",
    "    #Add the rowid as the first column\n",
    "    basket_str = basket_str + str(rowNum) \n",
    "    #Add columns\n",
    "    for colName, col in row.iteritems():\n",
    "        basket_str = basket_str + \",\\\"\" + colName + \"=\" + str(col) +\"\\\"\"\n",
    "\n",
    "#print(basket_str)\n",
    "basket_file=open(\"warranty_basket.csv\",\"w\")\n",
    "basket_file.write(basket_str)\n",
    "basket_file.close()\n"
   ]
  },
  {
   "cell_type": "markdown",
   "metadata": {},
   "source": [
    "## Build Association Rules\n",
    "\n",
    "We now use the apriori algorithm to build association rules. We then extract the results and populate a data frame for future use. The apriori provides the LHS for multiple combinations of the items. We capture the counts along with confidence and lift in this example"
   ]
  },
  {
   "cell_type": "code",
   "execution_count": 9,
   "metadata": {},
   "outputs": [],
   "source": [
    "#read back\n",
    "basket_data=pd.read_csv(\"warranty_basket.csv\",header=None)\n",
    "filt_data = basket_data.drop(basket_data.columns[[0]], axis=1)\n",
    "results= list(apriori(filt_data.values))\n",
    "\n",
    "rulesList= pd.DataFrame(columns=('LHS', 'RHS', 'COUNT', 'CONFIDENCE','LIFT'))\n",
    "rowCount=0\n",
    "\n",
    "#Convert results into a Data Frame\n",
    "for row in results:\n",
    "    for affinity in row[2]:\n",
    "        rulesList.loc[rowCount] = [ ', '.join(affinity.items_base) ,\\\n",
    "                                    affinity.items_add, \\\n",
    "                                    len(affinity.items_base) ,\\\n",
    "                                    affinity.confidence,\\\n",
    "                                    affinity.lift]\n",
    "        rowCount +=1\n"
   ]
  },
  {
   "cell_type": "markdown",
   "metadata": {},
   "source": [
    "## Using the Rules"
   ]
  },
  {
   "cell_type": "markdown",
   "metadata": {},
   "source": [
    "We can take a look at the rules by simply doing a head."
   ]
  },
  {
   "cell_type": "code",
   "execution_count": 10,
   "metadata": {},
   "outputs": [
    {
     "data": {
      "text/html": [
       "<div>\n",
       "<style scoped>\n",
       "    .dataframe tbody tr th:only-of-type {\n",
       "        vertical-align: middle;\n",
       "    }\n",
       "\n",
       "    .dataframe tbody tr th {\n",
       "        vertical-align: top;\n",
       "    }\n",
       "\n",
       "    .dataframe thead th {\n",
       "        text-align: right;\n",
       "    }\n",
       "</style>\n",
       "<table border=\"1\" class=\"dataframe\">\n",
       "  <thead>\n",
       "    <tr style=\"text-align: right;\">\n",
       "      <th></th>\n",
       "      <th>LHS</th>\n",
       "      <th>RHS</th>\n",
       "      <th>COUNT</th>\n",
       "      <th>CONFIDENCE</th>\n",
       "      <th>LIFT</th>\n",
       "    </tr>\n",
       "  </thead>\n",
       "  <tbody>\n",
       "    <tr>\n",
       "      <th>0</th>\n",
       "      <td></td>\n",
       "      <td>(AGE_GROUP=20 - 30)</td>\n",
       "      <td>0</td>\n",
       "      <td>0.34</td>\n",
       "      <td>1.0</td>\n",
       "    </tr>\n",
       "    <tr>\n",
       "      <th>1</th>\n",
       "      <td></td>\n",
       "      <td>(AGE_GROUP=30 - 50)</td>\n",
       "      <td>0</td>\n",
       "      <td>0.32</td>\n",
       "      <td>1.0</td>\n",
       "    </tr>\n",
       "    <tr>\n",
       "      <th>2</th>\n",
       "      <td></td>\n",
       "      <td>(AGE_GROUP=50PLUS )</td>\n",
       "      <td>0</td>\n",
       "      <td>0.16</td>\n",
       "      <td>1.0</td>\n",
       "    </tr>\n",
       "    <tr>\n",
       "      <th>3</th>\n",
       "      <td></td>\n",
       "      <td>(AGE_GROUP=&lt; 20)</td>\n",
       "      <td>0</td>\n",
       "      <td>0.18</td>\n",
       "      <td>1.0</td>\n",
       "    </tr>\n",
       "    <tr>\n",
       "      <th>4</th>\n",
       "      <td></td>\n",
       "      <td>(EMP_STATUS=EMPLOYED)</td>\n",
       "      <td>0</td>\n",
       "      <td>0.54</td>\n",
       "      <td>1.0</td>\n",
       "    </tr>\n",
       "  </tbody>\n",
       "</table>\n",
       "</div>"
      ],
      "text/plain": [
       "  LHS                    RHS COUNT  CONFIDENCE  LIFT\n",
       "0        (AGE_GROUP=20 - 30)     0        0.34   1.0\n",
       "1        (AGE_GROUP=30 - 50)     0        0.32   1.0\n",
       "2        (AGE_GROUP=50PLUS )     0        0.16   1.0\n",
       "3           (AGE_GROUP=< 20)     0        0.18   1.0\n",
       "4      (EMP_STATUS=EMPLOYED)     0        0.54   1.0"
      ]
     },
     "execution_count": 10,
     "metadata": {},
     "output_type": "execute_result"
    }
   ],
   "source": [
    "rulesList.head()"
   ]
  },
  {
   "cell_type": "markdown",
   "metadata": {},
   "source": [
    "We can also filter rules where the count of elements is 1 and the confidence is > 70%"
   ]
  },
  {
   "cell_type": "code",
   "execution_count": 11,
   "metadata": {},
   "outputs": [
    {
     "data": {
      "text/html": [
       "<div>\n",
       "<style scoped>\n",
       "    .dataframe tbody tr th:only-of-type {\n",
       "        vertical-align: middle;\n",
       "    }\n",
       "\n",
       "    .dataframe tbody tr th {\n",
       "        vertical-align: top;\n",
       "    }\n",
       "\n",
       "    .dataframe thead th {\n",
       "        text-align: right;\n",
       "    }\n",
       "</style>\n",
       "<table border=\"1\" class=\"dataframe\">\n",
       "  <thead>\n",
       "    <tr style=\"text-align: right;\">\n",
       "      <th></th>\n",
       "      <th>LHS</th>\n",
       "      <th>RHS</th>\n",
       "      <th>COUNT</th>\n",
       "      <th>CONFIDENCE</th>\n",
       "      <th>LIFT</th>\n",
       "    </tr>\n",
       "  </thead>\n",
       "  <tbody>\n",
       "    <tr>\n",
       "      <th>38</th>\n",
       "      <td>LIFETIME=3M to 1Y</td>\n",
       "      <td>(AGE_GROUP=20 - 30)</td>\n",
       "      <td>1</td>\n",
       "      <td>1.000000</td>\n",
       "      <td>2.941176</td>\n",
       "    </tr>\n",
       "    <tr>\n",
       "      <th>70</th>\n",
       "      <td>AGE_GROUP=20 - 30</td>\n",
       "      <td>(TYPE=CANCEL)</td>\n",
       "      <td>1</td>\n",
       "      <td>0.941176</td>\n",
       "      <td>1.568627</td>\n",
       "    </tr>\n",
       "    <tr>\n",
       "      <th>79</th>\n",
       "      <td>AGE_GROUP=30 - 50</td>\n",
       "      <td>(LIFETIME=1Y - 2Y)</td>\n",
       "      <td>1</td>\n",
       "      <td>1.000000</td>\n",
       "      <td>3.125000</td>\n",
       "    </tr>\n",
       "    <tr>\n",
       "      <th>80</th>\n",
       "      <td>LIFETIME=1Y - 2Y</td>\n",
       "      <td>(AGE_GROUP=30 - 50)</td>\n",
       "      <td>1</td>\n",
       "      <td>1.000000</td>\n",
       "      <td>3.125000</td>\n",
       "    </tr>\n",
       "    <tr>\n",
       "      <th>83</th>\n",
       "      <td>MARITAL_STATUS=MARRIED</td>\n",
       "      <td>(AGE_GROUP=30 - 50)</td>\n",
       "      <td>1</td>\n",
       "      <td>0.833333</td>\n",
       "      <td>2.604167</td>\n",
       "    </tr>\n",
       "  </tbody>\n",
       "</table>\n",
       "</div>"
      ],
      "text/plain": [
       "                       LHS                  RHS COUNT  CONFIDENCE      LIFT\n",
       "38       LIFETIME=3M to 1Y  (AGE_GROUP=20 - 30)     1    1.000000  2.941176\n",
       "70       AGE_GROUP=20 - 30        (TYPE=CANCEL)     1    0.941176  1.568627\n",
       "79       AGE_GROUP=30 - 50   (LIFETIME=1Y - 2Y)     1    1.000000  3.125000\n",
       "80        LIFETIME=1Y - 2Y  (AGE_GROUP=30 - 50)     1    1.000000  3.125000\n",
       "83  MARITAL_STATUS=MARRIED  (AGE_GROUP=30 - 50)     1    0.833333  2.604167"
      ]
     },
     "execution_count": 11,
     "metadata": {},
     "output_type": "execute_result"
    }
   ],
   "source": [
    "rulesList[(rulesList.COUNT <= 1) & (rulesList.CONFIDENCE > 0.7)].head(5)"
   ]
  },
  {
   "cell_type": "markdown",
   "metadata": {},
   "source": [
    "Looking at the rules, we can easily see some patterns. Customers who have left the business between 3 months and 1 year are always in the age group 20-30. Similarly, customers in aget group 20-30 always cancelled the service. These are interesting facts that can be analyzed further by the business."
   ]
  }
 ],
 "metadata": {
  "kernelspec": {
   "display_name": "Python 3 (ipykernel)",
   "language": "python",
   "name": "python3"
  },
  "language_info": {
   "codemirror_mode": {
    "name": "ipython",
    "version": 3
   },
   "file_extension": ".py",
   "mimetype": "text/x-python",
   "name": "python",
   "nbconvert_exporter": "python",
   "pygments_lexer": "ipython3",
   "version": "3.8.12"
  }
 },
 "nbformat": 4,
 "nbformat_minor": 1
}
